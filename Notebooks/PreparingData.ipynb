{
 "cells": [
  {
   "cell_type": "markdown",
   "id": "06c77576-f49f-4f59-8903-642b3bd0a6d0",
   "metadata": {
    "jp-MarkdownHeadingCollapsed": true
   },
   "source": [
    "# How to Prepare Data"
   ]
  },
  {
   "cell_type": "markdown",
   "id": "26558e47-d41b-4630-bf44-d322975e86e2",
   "metadata": {},
   "source": [
    "Comment: Maybe a Section about adding variance like mirroing pictures and so on."
   ]
  },
  {
   "cell_type": "markdown",
   "id": "e10109d1-9183-4f7f-9a69-d68dda38835c",
   "metadata": {},
   "source": [
    "# 1. For Keras"
   ]
  },
  {
   "cell_type": "markdown",
   "id": "1413e797-348d-4e52-b6fb-abf45885cf5e",
   "metadata": {},
   "source": [
    "## 1.1 Binary Classification"
   ]
  },
  {
   "cell_type": "markdown",
   "id": "3fd56b2b-15ff-4a6c-ae52-6d27840d415d",
   "metadata": {},
   "source": [
    "In this Section, we will use the **Breast Cancer Wisconsin Diagnostic** dataset provided by `scikit-learn`. This dataset is commonly used for binary classification tasks and is well-suited for demonstrating how to prepare data for training neural networks.\n",
    "\n",
    "The classification goal is to predict whether a tumor is **malignant (0)** or **benign (1)** based on various measurements computed from digitized images of breast tissue.\n",
    "\n",
    "If you're interested in exploring the structure, distributions, and correlations of the dataset before proceeding with data preparation, we recommend checking the `VisualiseData.ipynb` notebook. That notebook provides insights into the features and their relationships to the target.  \n",
    "\n",
    "The Dataset is loaded in the below cell."
   ]
  },
  {
   "cell_type": "code",
   "execution_count": 1,
   "id": "79f0f6e9-2477-4b86-92a3-5819e2c5cd8a",
   "metadata": {},
   "outputs": [],
   "source": [
    "# Import Standard Libraries\n",
    "import pandas as pd\n",
    "import numpy as np\n",
    "import matplotlib.pyplot as plt\n",
    "from sklearn import datasets\n",
    "\n",
    "# Load the Dataset \n",
    "breast_cancer = datasets.load_breast_cancer(as_frame=True)\n",
    "df = breast_cancer['frame']  # this is the DataFrame"
   ]
  },
  {
   "cell_type": "markdown",
   "id": "9e449abb-1633-4196-a6f0-24b76a629b80",
   "metadata": {},
   "source": [
    "### 1.1.1 Dataset Format Expectations"
   ]
  },
  {
   "cell_type": "markdown",
   "id": "37396c1d-5a79-40ab-b2e2-fcea7e6c52e2",
   "metadata": {},
   "source": [
    "Just like in `scikit-learn`, models in Keras expect the following input formats:\n",
    "\n",
    "### Design matrix $X$\n",
    "A NumPy array of shape `[n_samples, n_features]` that represents the input features. Each **row** is one example, and each **column** is one feature.\n",
    "\n",
    "### Target vector $y$\n",
    "An array of shape `[n_samples]` containing the class labels (for classification) or continuous values (for regression).\n",
    "\n",
    "### Optional: Weight vector $w$\n",
    "An array of shape `[n_samples]` assigning a weight to each example, which can be useful for handling class imbalance or emphasizing certain samples during training.\n",
    "\n",
    "> **Important:** The indices of `X`, `y`, and `w` must align — i.e., the `i`-th row in `X` must correspond to the `i`-th value in `y` and optionally in `w`."
   ]
  },
  {
   "cell_type": "markdown",
   "id": "2abeae25-d848-4c36-83d9-88cc73985dde",
   "metadata": {},
   "source": [
    "### 1.1.2 First Checks and Data Splitting"
   ]
  },
  {
   "cell_type": "markdown",
   "id": "6399f1b5-cb76-46c2-8dd6-777c5b147a8c",
   "metadata": {},
   "source": [
    "Before training a model, it's essential to:\n",
    "- Check how many examples and classes are present\n",
    "- Understand the balance between class labels\n",
    "- Ensure the feature matrix `X` has the right shape and type\n",
    "- Split the data into training and testing subsets for evaluation"
   ]
  },
  {
   "cell_type": "code",
   "execution_count": 2,
   "id": "dcc1f852-bab0-45de-af15-b1a1500c212b",
   "metadata": {},
   "outputs": [
    {
     "name": "stdout",
     "output_type": "stream",
     "text": [
      "Class distribution in the full dataset:\n",
      "target\n",
      "0    212\n",
      "1    357\n",
      "dtype: int64\n",
      "\n",
      "Expected output: 212 = Malignant, 357 = Benign\n",
      "\n",
      "In training data: 148 Malignant examples, 250 Benign examples\n"
     ]
    }
   ],
   "source": [
    "from sklearn.model_selection import train_test_split\n",
    "\n",
    "# Inspect class distribution in the full dataset\n",
    "print(\"Class distribution in the full dataset:\")\n",
    "print(df.groupby(\"target\").size())\n",
    "print(\"\\nExpected output: 212 = Malignant, 357 = Benign\") # The expected output comes from print(breast_cancer.DESCR)\n",
    "\n",
    "# Select subset of features (can be expanded)\n",
    "X = df[breast_cancer.feature_names[:10]]\n",
    "y = df[\"target\"]\n",
    "\n",
    "# Split the data for training and testing (70/30 split)\n",
    "X_train, X_test, y_train, y_test = train_test_split(\n",
    "    X, y, test_size=0.3, random_state=42, stratify=y\n",
    ")\n",
    "\n",
    "# Check class distribution in training set\n",
    "n_benign = np.sum(y_train)\n",
    "n_malignant = len(y_train) - n_benign\n",
    "print(f\"\\nIn training data: {n_malignant} Malignant examples, {n_benign} Benign examples\")"
   ]
  },
  {
   "cell_type": "markdown",
   "id": "2e9ecabf-45ac-4054-92ba-17e3fd21e208",
   "metadata": {},
   "source": [
    "### 1.1.3 Notes on Stratification and Scaling\n",
    "\n",
    "When splitting the data, using the `stratify` parameter ensures that the class distribution remains similar in both training and test sets.\n",
    "\n",
    "Depending on the model you choose in Keras, it may also be necessary to scale the input features. For instance:\n",
    "- Neural networks often perform better when features are **standardized** (zero mean, unit variance)\n",
    "- Alternatively, you can use **min-max scaling** if your architecture or activation functions prefer inputs in [0, 1]"
   ]
  },
  {
   "cell_type": "markdown",
   "id": "c67aced2-99fd-45c8-8379-f6714d2224f9",
   "metadata": {},
   "source": [
    "### 1.1.4 Feature Scaling with `StandardScaler`\n",
    "\n",
    "Neural networks are sensitive to the scale of input features. If one variable spans values in the thousands while another ranges between 0 and 1, the network may struggle to converge efficiently. This is because internal weights can fluctuate wildly to compensate for imbalanced magnitudes across dimensions.\n",
    "\n",
    "To ensure that each feature contributes equally to the model during training, it's common practice to **scale and center** the data.\n",
    "\n",
    "We use the [StandardScaler](https://scikit-learn.org/stable/modules/generated/sklearn.preprocessing.StandardScaler.html) from `sklearn.preprocessing`, which transforms each feature to have:\n",
    "- Zero mean\n",
    "- Unit variance\n",
    "\n",
    "### Important:\n",
    "- **Always fit the scaler on the training data only.**\n",
    "- Then, use the same fitted scaler to transform the test data.\n",
    "  \n",
    "This mimics the realistic scenario where the model sees new, possibly out-of-distribution inputs at inference time, and avoids leaking information from the test set into the training pipeline.\n"
   ]
  },
  {
   "cell_type": "code",
   "execution_count": 6,
   "id": "8b8f3ac5-b3d7-442a-9d32-a39691c1132b",
   "metadata": {},
   "outputs": [],
   "source": [
    "from sklearn.preprocessing import StandardScaler\n",
    "\n",
    "# Initialize the scaler\n",
    "scaler = StandardScaler()\n",
    "\n",
    "# Fit on training data, transform both train and test\n",
    "X_train = scaler.fit_transform(X_train)\n",
    "X_test = scaler.transform(X_test)"
   ]
  }
 ],
 "metadata": {
  "kernelspec": {
   "display_name": "Python 3 (ipykernel)",
   "language": "python",
   "name": "python3"
  },
  "language_info": {
   "codemirror_mode": {
    "name": "ipython",
    "version": 3
   },
   "file_extension": ".py",
   "mimetype": "text/x-python",
   "name": "python",
   "nbconvert_exporter": "python",
   "pygments_lexer": "ipython3",
   "version": "3.12.10"
  }
 },
 "nbformat": 4,
 "nbformat_minor": 5
}
