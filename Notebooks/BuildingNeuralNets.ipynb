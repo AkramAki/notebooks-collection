{
 "cells": [
  {
   "cell_type": "markdown",
   "id": "d70540b2-ed16-4c11-94f7-5dd8ad320dd5",
   "metadata": {},
   "source": [
    "# How to Build Neural Networks"
   ]
  },
  {
   "cell_type": "markdown",
   "id": "3b59ec02-d0f7-4020-96c8-432aff93cde8",
   "metadata": {
    "jp-MarkdownHeadingCollapsed": true
   },
   "source": [
    "# 1. Introduction to Neural Networks"
   ]
  },
  {
   "cell_type": "markdown",
   "id": "abcdbe17-e628-40c7-ba9f-801fd1643351",
   "metadata": {},
   "source": [
    "## 1.1 What is a Neural Network? "
   ]
  },
  {
   "cell_type": "markdown",
   "id": "574cddbd-3ffb-46c1-96d7-8527f264e0b3",
   "metadata": {},
   "source": [
    "A neural network is a computational model inspired by the structure and function of biological neural networks. It consists of layers of interconnected nodes (neurons), where each connection has an associated weight. These weights are learned during training through optimization algorithms like gradient descent.\n",
    "\n",
    "Neural networks are particularly powerful for modeling complex, non-linear relationships in data. They can be used for tasks such as classification, regression, and even generative modeling.\n",
    "\n",
    "A typical neural network includes:\n",
    "- An input layer that receives feature vectors\n",
    "- One or more hidden layers with nonlinear activations\n",
    "- An output layer producing predictions"
   ]
  },
  {
   "cell_type": "markdown",
   "id": "80512cfb-bbe0-4791-86a2-45b30f771cac",
   "metadata": {
    "jp-MarkdownHeadingCollapsed": true
   },
   "source": [
    "# 2. Activation Functions"
   ]
  },
  {
   "cell_type": "markdown",
   "id": "08bf1407-21d8-47b8-bfe1-3d65d8b62193",
   "metadata": {},
   "source": [
    "## 2.1 What are Activation Functions?"
   ]
  },
  {
   "cell_type": "markdown",
   "id": "203e53ad-9bfb-4821-9d20-31f00183b4b6",
   "metadata": {},
   "source": [
    "Activation functions introduce non-linearity into neural networks, enabling them to learn complex patterns. Without activation functions, the network would reduce to a linear model regardless of its depth.\n",
    "\n",
    "Each activation function has different characteristics and is suited to different tasks and architectures.  \n",
    "\n",
    "So the notebook is not cluttered with pictures when running everything the code blocks for the activation function have be commented out. For ploting the functions just uncomment and run the cell.  \n",
    "Section 2.2 allows based on the input array different activation functions to be ploted in one plot."
   ]
  },
  {
   "cell_type": "code",
   "execution_count": 1,
   "id": "bcf919b7-f1a7-4586-b862-fa56626e6d05",
   "metadata": {},
   "outputs": [],
   "source": [
    "import numpy as np\n",
    "import matplotlib.pyplot as plt\n",
    "\n",
    "# Here a helper funtion is implemented that makes ploting the activation functions easier.\n",
    "def plot_activation(name):\n",
    "    name = name.lower()\n",
    "    x = np.linspace(-10, 10, 1000)\n",
    "\n",
    "    match name:\n",
    "        case \"relu\":\n",
    "            y = np.maximum(0, x)\n",
    "        case \"sigmoid\":\n",
    "            y = 1 / (1 + np.exp(-x))\n",
    "        case \"tanh\":\n",
    "            y = np.tanh(x)\n",
    "        case _:  # default\n",
    "            print(f\"Activation '{name}' not recognized.\")\n",
    "            return\n",
    "\n",
    "    plt.plot(x, y)\n",
    "    plt.title(f\"{name.capitalize()} Activation Function\")\n",
    "    plt.xlabel(\"x\")\n",
    "    plt.ylabel(f\"{name.capitalize()}(x)\")\n",
    "    plt.grid(True)\n",
    "    plt.show()"
   ]
  },
  {
   "cell_type": "code",
   "execution_count": 2,
   "id": "27ccc0f8-afd4-4bda-a181-19c43b10929b",
   "metadata": {},
   "outputs": [],
   "source": [
    "import matplotlib\n",
    "from matplotlib import pyplot as plt\n",
    "import numpy as np\n",
    "from math import exp\n",
    "\n",
    "xrange = np.arange(-5, 5, 1e-2)\n",
    "\n",
    "# Define the full list of known activation functions\n",
    "_all_activation_functions = {\n",
    "    'sigmoid': (\n",
    "        'Sigmoid',\n",
    "        r'$S(x)=\\frac{1}{1+e^{-x}}$',\n",
    "        lambda x: 1 / (1 + exp(-x))\n",
    "    ),\n",
    "    'tanh': (\n",
    "        'Tanh',\n",
    "        r'$S(x)=\\frac{e^x-e^{-x}}{e^x+e^{-x}}$',\n",
    "        lambda x: (exp(x) - exp(-x)) / (exp(x) + exp(-x))\n",
    "    ),\n",
    "    'relu': (\n",
    "        'ReLU',\n",
    "        r'$S(x)=\\genfrac{\\{}{}{0}{}{0 ~ if ~ x<0}{x ~ if ~ x\\geq0}$',\n",
    "        lambda x: x if x >= 0 else 0\n",
    "    ),\n",
    "    'leaky relu': (\n",
    "        'Leaky ReLU',\n",
    "        r'$S(x)=\\genfrac{\\{}{}{0}{}{0.01x ~ if ~ x<0}{x ~ if ~ x\\geq0}$',\n",
    "        lambda x: x if x >= 0 else 0.01 * x\n",
    "    ),\n",
    "}\n",
    "\n",
    "\n",
    "def plot_selected_activations(selected_names):\n",
    "    # Normalize input names to lowercase for matching\n",
    "    selected_keys = [name.lower() for name in selected_names]\n",
    "\n",
    "    # Filter and collect valid activations\n",
    "    selected = [v for k, v in _all_activation_functions.items() if k in selected_keys]\n",
    "\n",
    "    if not selected:\n",
    "        print(\"No valid activation functions selected.\")\n",
    "        return\n",
    "\n",
    "    rows = len(selected)\n",
    "    fig = plt.figure(figsize=(10, 2 * rows))\n",
    "\n",
    "    for row, (label, formula, func) in enumerate(selected):\n",
    "        label_ax = fig.add_subplot(rows, 3, 3 * row + 1)\n",
    "        label_ax.text(0, 0.5, label, fontsize=18)\n",
    "        label_ax.axis('off')\n",
    "\n",
    "        formula_ax = fig.add_subplot(rows, 3, 3 * row + 2)\n",
    "        formula_ax.text(0, 0.5, formula, fontsize=18)\n",
    "        formula_ax.axis('off')\n",
    "\n",
    "        plot_ax = fig.add_subplot(rows, 3, 3 * row + 3)\n",
    "        plot_ax.plot(xrange, [func(x) for x in xrange])\n",
    "        plot_ax.set_title(f\"{label} Function\")\n",
    "\n",
    "    plt.tight_layout()\n",
    "    plt.show()\n",
    "\n",
    "def availableActivationFunctions():\n",
    "    return _all_activation_functions.keys()\n"
   ]
  },
  {
   "cell_type": "markdown",
   "id": "d3c04982-3fe8-4936-824d-a5eeb3b82a35",
   "metadata": {},
   "source": [
    "### 2.1.1 ReLU (Rectified Linear Unit)"
   ]
  },
  {
   "cell_type": "markdown",
   "id": "4aafbce4-cc66-4b12-9b82-b497c04dee02",
   "metadata": {},
   "source": [
    "The ReLU function is defined as:  \n",
    "$\\text{ReLU}(x) = \\max(0, x)$\n",
    "\n",
    "It is one of the most commonly used activation functions for hidden layers due to its simplicity and effectiveness. ReLU accelerates convergence by avoiding saturation in the positive domain, but it can suffer from the \"dying ReLU\" problem where neurons get stuck outputting zero."
   ]
  },
  {
   "cell_type": "code",
   "execution_count": 3,
   "id": "42ba72f4-2f90-4aa3-a9c1-4773022675c4",
   "metadata": {},
   "outputs": [],
   "source": [
    "# plot_selected_activations([\"ReLU\"])"
   ]
  },
  {
   "cell_type": "markdown",
   "id": "a3f84292-f074-4e6f-a5f8-06079f896c11",
   "metadata": {},
   "source": [
    "### 2.1.2 Leaky ReLU"
   ]
  },
  {
   "cell_type": "markdown",
   "id": "e8b4f341-b6a1-4d1f-9de1-9a5f02a087ea",
   "metadata": {},
   "source": [
    "### 2.1.3 Sigmoid\n",
    "\n",
    "The sigmoid activation maps input values into the (0, 1) interval:\n",
    "\n",
    "$\\sigma(x) = \\frac{1}{1 + e^{-x}} = {\\left(1 + e^{-x} \\right)}^{-1}$  \n",
    "\n",
    "It is historically used for binary classification tasks but can lead to vanishing gradients when used in deep networks."
   ]
  },
  {
   "cell_type": "code",
   "execution_count": 4,
   "id": "7f178b83-f1dd-4d06-9f91-f2367457b56a",
   "metadata": {},
   "outputs": [],
   "source": [
    "# plot_activation(\"sigmoid\")"
   ]
  },
  {
   "cell_type": "markdown",
   "id": "bd389adb-5989-4a9e-be9a-bcf379526c0b",
   "metadata": {},
   "source": [
    "### 2.1.4 Tanh"
   ]
  },
  {
   "cell_type": "markdown",
   "id": "02886914-2e87-408c-9804-1aa28dbf609d",
   "metadata": {},
   "source": [
    "The tanh activation maps inputs into the range (-1, 1):\n",
    "\n",
    "$\\tanh(x) = \\frac{e^x - e^{-x}}{e^x + e^{-x}}$  \n",
    "\n",
    "Like sigmoid, it can cause vanishing gradients, but it is zero-centered, which can help during optimization.\n"
   ]
  },
  {
   "cell_type": "code",
   "execution_count": 5,
   "id": "f6476e70-1f2a-4026-9d1a-7899a2c857e1",
   "metadata": {},
   "outputs": [],
   "source": [
    "# plot_activation(\"tanh\")"
   ]
  },
  {
   "cell_type": "markdown",
   "id": "acfd66f9-e74b-4c24-a45d-e9e291210dfd",
   "metadata": {},
   "source": [
    "### 2.1.5 Softmax (good for multi-class classification)"
   ]
  },
  {
   "cell_type": "markdown",
   "id": "df40a8a7-d4a9-4c66-93b9-f61af6f6396f",
   "metadata": {},
   "source": [
    "### 2.1.6 And More"
   ]
  },
  {
   "cell_type": "markdown",
   "id": "dc5e8cb9-a5a7-4bbc-8418-d499164e027c",
   "metadata": {},
   "source": [
    "## 2.2 Compare different activation functions"
   ]
  },
  {
   "cell_type": "code",
   "execution_count": 6,
   "id": "1d78b0b0-c24c-47f8-be18-6b70335f231c",
   "metadata": {},
   "outputs": [
    {
     "data": {
      "text/plain": [
       "dict_keys(['sigmoid', 'tanh', 'relu', 'leaky relu'])"
      ]
     },
     "execution_count": 6,
     "metadata": {},
     "output_type": "execute_result"
    }
   ],
   "source": [
    "availableActivationFunctions()"
   ]
  },
  {
   "cell_type": "code",
   "execution_count": 7,
   "id": "1f5c7e8e-360a-471d-9a6b-1c8c8d0b642a",
   "metadata": {},
   "outputs": [
    {
     "data": {
      "image/png": "[encoded data removed]",
      "text/plain": [
       "<Figure size 1000x600 with 9 Axes>"
      ]
     },
     "metadata": {},
     "output_type": "display_data"
    }
   ],
   "source": [
    "# Using the keys from above multiple activation functions can be ploted togheter with plot_selected_activations([\"key1\", \"key2\"])\n",
    "plot_selected_activations([\"ReLU\", \"sigmoid\", \"Tanh\"])"
   ]
  },
  {
   "cell_type": "markdown",
   "id": "7c535419-c370-45dc-aacd-d9f41683efbc",
   "metadata": {},
   "source": [
    "# 3. Different Librarys"
   ]
  },
  {
   "cell_type": "markdown",
   "id": "bb9da0e8-e2d8-4fbd-8cb5-47961b3dc228",
   "metadata": {},
   "source": [
    "<div style=\"color:red;\"><strong>TODO:</strong> Add more explanations for 3.1.2 - 3.1.6</div>"
   ]
  },
  {
   "cell_type": "markdown",
   "id": "0b6f0089-883a-4b69-af63-e217e0412482",
   "metadata": {},
   "source": [
    "## 3.1 Keras"
   ]
  },
  {
   "cell_type": "markdown",
   "id": "bf1e3e02-0be9-4ebc-ac2f-a372ab9d7af7",
   "metadata": {},
   "source": [
    "Keras is a high-level neural networks API, written in Python and capable of running on top of TensorFlow. It provides simple, modular building blocks for constructing deep learning models."
   ]
  },
  {
   "cell_type": "code",
   "execution_count": 17,
   "id": "01caa5ce-eb0a-4a61-a1d9-baae1edd0663",
   "metadata": {},
   "outputs": [],
   "source": [
    "from pathlib import Path\n",
    "#import TF\n",
    "import tensorflow as tf"
   ]
  },
  {
   "cell_type": "markdown",
   "id": "ca6c2b95-e38b-4f37-82ec-77e4a7c89119",
   "metadata": {
    "jp-MarkdownHeadingCollapsed": true
   },
   "source": [
    "### 3.1.1 Sequential Models"
   ]
  },
  {
   "cell_type": "markdown",
   "id": "03ef3c78-40ed-4332-9bda-94583ad8a77a",
   "metadata": {},
   "source": [
    "In this section, we'll focus on the layers that can be used with a `Sequential` model in Keras.  \n",
    "The `Sequential` API in Keras provides a simple way to stack layers linearly. It's ideal for straightforward feedforward architectures where each layer has exactly one input tensor and one output tensor."
   ]
  },
  {
   "cell_type": "markdown",
   "id": "9aa6cba8-8945-49f3-a0fb-dd382965ff3b",
   "metadata": {},
   "source": [
    "#### 3.1.1.1 The `Dense` Layer"
   ]
  },
  {
   "cell_type": "markdown",
   "id": "22832173-db1d-428d-84e5-66449f071f29",
   "metadata": {},
   "source": [
    "The `Dense` layer is the most commonly used layer in neural networks and corresponds to a fully connected layer — meaning each neuron receives input from all neurons in the previous layer.\n",
    "\n",
    "#### Key Parameters of `Dense`:\n",
    "\n",
    "* `units`: The number of neurons in the layer. This defines the dimensionality of the output space.\n",
    "* `activation`: The activation function to use (e.g., `'relu'`, `'sigmoid'`, `'tanh'`, etc.).\n",
    "* `use_bias`: Whether the layer uses a bias vector.\n",
    "* `kernel_initializer`: Initialization method for the weights.\n",
    "* `bias_initializer`: Initialization method for the bias vector.\n",
    "\n",
    "**Example**:\n",
    "\n",
    "```python\n",
    "from tensorflow.keras.layers import Dense\n",
    "\n",
    "Dense(units=64, activation='relu')\n",
    "```\n",
    "\n",
    "This creates a fully connected layer with 64 neurons using the ReLU activation function."
   ]
  },
  {
   "cell_type": "markdown",
   "id": "0da97dfd-b1e3-4277-b82d-bedbf7b18e6e",
   "metadata": {},
   "source": [
    "#### 3.1.1.2 `Dropout`"
   ]
  },
  {
   "cell_type": "markdown",
   "id": "60d7233a-38bc-45e2-ae5d-ebbfa00ae169",
   "metadata": {},
   "source": [
    "A regularization layer that randomly sets a fraction of the input units to 0 during training, helping prevent overfitting.\n",
    "\n",
    "```python\n",
    "from tensorflow.keras.layers import Dropout\n",
    "\n",
    "Dropout(0.5)  # drops 50% of input units randomly during training\n",
    "```"
   ]
  },
  {
   "cell_type": "markdown",
   "id": "d7968e65-dc62-464c-8ca6-d224ac8a824e",
   "metadata": {},
   "source": [
    "#### 3.1.1.3 `Flatten`"
   ]
  },
  {
   "cell_type": "markdown",
   "id": "7d475a5e-d3c5-4810-9755-a70a8579558b",
   "metadata": {},
   "source": [
    "Flattens the input. Useful when transitioning from convolutional layers to dense layers.\n",
    "\n",
    "```python\n",
    "from tensorflow.keras.layers import Flatten\n",
    "\n",
    "Flatten()  # converts 2D or 3D data to 1D\n",
    "```"
   ]
  },
  {
   "cell_type": "markdown",
   "id": "e43f0ee1-2319-4086-9894-2a99aa48d9c2",
   "metadata": {},
   "source": [
    "#### 3.1.1.4 `Activation`"
   ]
  },
  {
   "cell_type": "markdown",
   "id": "1e7cacd1-d7f0-453b-8c24-35141db571ec",
   "metadata": {},
   "source": [
    "Can be used to specify an activation function separately (as an alternative to the `activation` argument in other layers).\n",
    "\n",
    "```python\n",
    "from tensorflow.keras.layers import Activation\n",
    "\n",
    "Activation('relu')\n",
    "```"
   ]
  },
  {
   "cell_type": "markdown",
   "id": "9039a0bc-b575-406b-8c29-5085f2f01601",
   "metadata": {},
   "source": [
    "#### 3.1.1.5 `BatchNormalization`"
   ]
  },
  {
   "cell_type": "markdown",
   "id": "f4a240a6-6695-454b-85ef-cfc6f59f35e9",
   "metadata": {},
   "source": [
    "Normalizes the inputs to a layer for each mini-batch. Speeds up training and provides some regularization.\n",
    "\n",
    "```python\n",
    "from tensorflow.keras.layers import BatchNormalization\n",
    "\n",
    "BatchNormalization()\n",
    "```"
   ]
  },
  {
   "cell_type": "markdown",
   "id": "3c0c6bad-e3fc-47e6-8daa-a45c78160380",
   "metadata": {},
   "source": [
    "#### 3.1.1.6 `Input`"
   ]
  },
  {
   "cell_type": "markdown",
   "id": "ef68f89e-d85b-4cc2-9d9a-1598fff27cdb",
   "metadata": {},
   "source": [
    "Used to define the input shape of the model, especially in Functional API, but also useful to make input shapes explicit in `Sequential`.\n",
    "\n",
    "```python\n",
    "from tensorflow.keras.layers import Input\n",
    "\n",
    "Input(shape=(10,))\n",
    "```"
   ]
  },
  {
   "cell_type": "markdown",
   "id": "d984c4fc-04f6-4425-8b4d-01d223138228",
   "metadata": {
    "jp-MarkdownHeadingCollapsed": true
   },
   "source": [
    "### 3.1.2 Summary of Common Sequential Layers"
   ]
  },
  {
   "cell_type": "markdown",
   "id": "67e40582-2204-49ee-a608-9080ab96ff5b",
   "metadata": {},
   "source": [
    "| Layer                | Purpose                     | When to Use                                              |\n",
    "| -------------------- | --------------------------- | -------------------------------------------------------- |\n",
    "| `Dense`              | Fully connected computation | In almost all MLP models                                 |\n",
    "| `Dropout`            | Regularization              | To reduce overfitting                                    |\n",
    "| `Flatten`            | Reshape input to 1D         | Before dense layers when using convolutional layers      |\n",
    "| `Activation`         | Adds activation separately  | If you want to add activations explicitly                |\n",
    "| `BatchNormalization` | Normalize batch statistics  | When training deep networks or using high learning rates |\n",
    "| `Input`              | Define model input shape    | As the first layer, particularly for clarity             |"
   ]
  },
  {
   "cell_type": "markdown",
   "id": "b89a8780-04a0-4d2c-be67-167cf0c32bdb",
   "metadata": {},
   "source": [
    "### 3.1.3 Example Models"
   ]
  },
  {
   "cell_type": "markdown",
   "id": "e16addbd-de64-4212-9731-b19147410309",
   "metadata": {},
   "source": [
    "In this section, we build a simple feedforward neural network using Keras' Sequential API. This type of model stacks layers in a linear fashion, ideal for most basic classification and regression tasks.\n",
    "\n",
    "We'll also visualize the model architecture using Keras utilities.  \n",
    "\n",
    "* The model has:\n",
    "\n",
    "  * An input layer with 10 features (`input_dim=10`)\n",
    "  * A hidden layer with 11 neurons and the ReLU activation\n",
    "  * An output layer with 1 neuron and the sigmoid activation (for binary classification)"
   ]
  },
  {
   "cell_type": "code",
   "execution_count": 12,
   "id": "9701c410-8c34-4409-98b4-1eabd5b846a8",
   "metadata": {},
   "outputs": [],
   "source": [
    "from keras.models import Sequential\n",
    "from keras.layers import Input\n",
    "from keras.layers import Dense\n",
    "\n",
    "model = Sequential()\n",
    "model.add(Input(shape=(10,)))\n",
    "model.add(Dense(units=11, activation='relu'))\n",
    "model.add(Dense(units=1, activation='sigmoid'))"
   ]
  },
  {
   "cell_type": "markdown",
   "id": "c6df2dcb-c113-476a-ba1f-45792b1738ee",
   "metadata": {},
   "source": [
    "### 3.1.4 Visualizing a model"
   ]
  },
  {
   "cell_type": "markdown",
   "id": "9d63dd56-5072-4d43-af40-464a5e669e92",
   "metadata": {},
   "source": [
    "We use `plot_model()` from `tensorflow.keras.utils` to generate an image of the model's architecture. To keep things organized, the image will be saved inside a `build/` directory, in a subfolder named after the current notebook. This way, visual outputs from different notebooks don't mix. `model.summary()` is a simple way to visualize the Model."
   ]
  },
  {
   "cell_type": "code",
   "execution_count": 13,
   "id": "2e182e36-65db-4c50-a94c-849479a6cdfb",
   "metadata": {},
   "outputs": [],
   "source": [
    "from IPython.display import Image\n",
    "from keras.utils import plot_model"
   ]
  },
  {
   "cell_type": "code",
   "execution_count": 14,
   "id": "1dff75b7-c108-489c-9829-b0316394147b",
   "metadata": {},
   "outputs": [
    {
     "data": {
      "text/html": [
       "<pre style=\"white-space:pre;overflow-x:auto;line-height:normal;font-family:Menlo,'DejaVu Sans Mono',consolas,'Courier New',monospace\"><span style=\"font-weight: bold\">Model: \"sequential_1\"</span>\n",
       "</pre>\n"
      ],
      "text/plain": [
       "\u001b[1mModel: \"sequential_1\"\u001b[0m\n"
      ]
     },
     "metadata": {},
     "output_type": "display_data"
    },
    {
     "data": {
      "text/html": [
       "<pre style=\"white-space:pre;overflow-x:auto;line-height:normal;font-family:Menlo,'DejaVu Sans Mono',consolas,'Courier New',monospace\">┏━━━━━━━━━━━━━━━━━━━━━━━━━━━━━━━━━┳━━━━━━━━━━━━━━━━━━━━━━━━┳━━━━━━━━━━━━━━━┓\n",
       "┃<span style=\"font-weight: bold\"> Layer (type)                    </span>┃<span style=\"font-weight: bold\"> Output Shape           </span>┃<span style=\"font-weight: bold\">       Param # </span>┃\n",
       "┡━━━━━━━━━━━━━━━━━━━━━━━━━━━━━━━━━╇━━━━━━━━━━━━━━━━━━━━━━━━╇━━━━━━━━━━━━━━━┩\n",
       "│ dense_2 (<span style=\"color: #0087ff; text-decoration-color: #0087ff\">Dense</span>)                 │ (<span style=\"color: #00d7ff; text-decoration-color: #00d7ff\">None</span>, <span style=\"color: #00af00; text-decoration-color: #00af00\">11</span>)             │           <span style=\"color: #00af00; text-decoration-color: #00af00\">121</span> │\n",
       "├─────────────────────────────────┼────────────────────────┼───────────────┤\n",
       "│ dense_3 (<span style=\"color: #0087ff; text-decoration-color: #0087ff\">Dense</span>)                 │ (<span style=\"color: #00d7ff; text-decoration-color: #00d7ff\">None</span>, <span style=\"color: #00af00; text-decoration-color: #00af00\">1</span>)              │            <span style=\"color: #00af00; text-decoration-color: #00af00\">12</span> │\n",
       "└─────────────────────────────────┴────────────────────────┴───────────────┘\n",
       "</pre>\n"
      ],
      "text/plain": [
       "┏━━━━━━━━━━━━━━━━━━━━━━━━━━━━━━━━━┳━━━━━━━━━━━━━━━━━━━━━━━━┳━━━━━━━━━━━━━━━┓\n",
       "┃\u001b[1m \u001b[0m\u001b[1mLayer (type)                   \u001b[0m\u001b[1m \u001b[0m┃\u001b[1m \u001b[0m\u001b[1mOutput Shape          \u001b[0m\u001b[1m \u001b[0m┃\u001b[1m \u001b[0m\u001b[1m      Param #\u001b[0m\u001b[1m \u001b[0m┃\n",
       "┡━━━━━━━━━━━━━━━━━━━━━━━━━━━━━━━━━╇━━━━━━━━━━━━━━━━━━━━━━━━╇━━━━━━━━━━━━━━━┩\n",
       "│ dense_2 (\u001b[38;5;33mDense\u001b[0m)                 │ (\u001b[38;5;45mNone\u001b[0m, \u001b[38;5;34m11\u001b[0m)             │           \u001b[38;5;34m121\u001b[0m │\n",
       "├─────────────────────────────────┼────────────────────────┼───────────────┤\n",
       "│ dense_3 (\u001b[38;5;33mDense\u001b[0m)                 │ (\u001b[38;5;45mNone\u001b[0m, \u001b[38;5;34m1\u001b[0m)              │            \u001b[38;5;34m12\u001b[0m │\n",
       "└─────────────────────────────────┴────────────────────────┴───────────────┘\n"
      ]
     },
     "metadata": {},
     "output_type": "display_data"
    },
    {
     "data": {
      "text/html": [
       "<pre style=\"white-space:pre;overflow-x:auto;line-height:normal;font-family:Menlo,'DejaVu Sans Mono',consolas,'Courier New',monospace\"><span style=\"font-weight: bold\"> Total params: </span><span style=\"color: #00af00; text-decoration-color: #00af00\">133</span> (532.00 B)\n",
       "</pre>\n"
      ],
      "text/plain": [
       "\u001b[1m Total params: \u001b[0m\u001b[38;5;34m133\u001b[0m (532.00 B)\n"
      ]
     },
     "metadata": {},
     "output_type": "display_data"
    },
    {
     "data": {
      "text/html": [
       "<pre style=\"white-space:pre;overflow-x:auto;line-height:normal;font-family:Menlo,'DejaVu Sans Mono',consolas,'Courier New',monospace\"><span style=\"font-weight: bold\"> Trainable params: </span><span style=\"color: #00af00; text-decoration-color: #00af00\">133</span> (532.00 B)\n",
       "</pre>\n"
      ],
      "text/plain": [
       "\u001b[1m Trainable params: \u001b[0m\u001b[38;5;34m133\u001b[0m (532.00 B)\n"
      ]
     },
     "metadata": {},
     "output_type": "display_data"
    },
    {
     "data": {
      "text/html": [
       "<pre style=\"white-space:pre;overflow-x:auto;line-height:normal;font-family:Menlo,'DejaVu Sans Mono',consolas,'Courier New',monospace\"><span style=\"font-weight: bold\"> Non-trainable params: </span><span style=\"color: #00af00; text-decoration-color: #00af00\">0</span> (0.00 B)\n",
       "</pre>\n"
      ],
      "text/plain": [
       "\u001b[1m Non-trainable params: \u001b[0m\u001b[38;5;34m0\u001b[0m (0.00 B)\n"
      ]
     },
     "metadata": {},
     "output_type": "display_data"
    }
   ],
   "source": [
    "model.summary()"
   ]
  },
  {
   "cell_type": "markdown",
   "id": "1019e28a-54bb-477a-8ab7-c4269926a10c",
   "metadata": {},
   "source": [
    "Another nice tool for more complicated models is Net2Vis: https://viscom.net2vis.uni-ulm.de/"
   ]
  },
  {
   "cell_type": "code",
   "execution_count": 19,
   "id": "d9461a44-9885-4ed1-87e4-fe03fd684cd2",
   "metadata": {},
   "outputs": [
    {
     "data": {
      "image/png": "[encoded data removed]",
      "text/plain": [
       "<IPython.core.display.Image object>"
      ]
     },
     "execution_count": 19,
     "metadata": {},
     "output_type": "execute_result"
    }
   ],
   "source": [
    "Path(\"build/BuildingNeuralNets\").mkdir(parents=True, exist_ok=True)\n",
    "\n",
    "plot_model(model, to_file='build/BuildingNeuralNets/model_plot.png', show_shapes=True, show_layer_names=False)\n",
    "Image('build/BuildingNeuralNets/model_plot.png')"
   ]
  },
  {
   "cell_type": "markdown",
   "id": "02208760-e050-4ca2-acfe-e62f09d1fa2a",
   "metadata": {},
   "source": [
    "#### 3.1.5 Compiling the Model"
   ]
  },
  {
   "cell_type": "markdown",
   "id": "55418ebd-d7ef-42f8-b431-e76e14b343ae",
   "metadata": {},
   "source": [
    "Before training a model in Keras, it must be **compiled**. This step prepares the model for training by:\n",
    "\n",
    "* Setting the **loss function**, which quantifies how far off predictions are from the actual labels.\n",
    "* Configuring the **optimizer**, which determines how the model updates its weights during training.\n",
    "* Defining **metrics**, which are used to evaluate model performance."
   ]
  },
  {
   "cell_type": "code",
   "execution_count": 21,
   "id": "2e42fb32-4456-4800-a13d-4552acabed36",
   "metadata": {},
   "outputs": [],
   "source": [
    "model.compile(loss='binary_crossentropy',\n",
    "              optimizer='sgd',\n",
    "              metrics=['accuracy'])"
   ]
  },
  {
   "cell_type": "markdown",
   "id": "7f75d2ed-cb62-44fe-b623-6dc5a086c171",
   "metadata": {},
   "source": [
    "#### **Why These Choices?**\n",
    "\n",
    "* **`binary_crossentropy`**:\n",
    "  Appropriate for binary classification tasks. It penalizes wrong predictions more heavily as the prediction deviates from the true label (0 or 1).\n",
    "\n",
    "* **`sgd` (Stochastic Gradient Descent)**:\n",
    "  A basic but powerful optimizer. You can customize it later with parameters like `learning_rate`, `momentum`, etc.\n",
    "\n",
    "* **`accuracy`**:\n",
    "  A straightforward performance metric for classification tasks, showing the proportion of correctly predicted labels."
   ]
  },
  {
   "cell_type": "markdown",
   "id": "728e6b94-1717-43b0-b1b5-5acb9836a61c",
   "metadata": {},
   "source": [
    "### 3.1.6 Training the Model"
   ]
  },
  {
   "cell_type": "markdown",
   "id": "444520f4-c60d-4e90-ad99-0b0f40ebdc33",
   "metadata": {},
   "source": [
    "\n",
    "Once the model is compiled, we can train it using the `.fit()` method.\n",
    "\n",
    "This step feeds data through the model, adjusts the weights, and records performance over time.  \n",
    "\n",
    "#### **What happens during `.fit()`?**\n",
    "\n",
    "* The training data is passed through the model in **mini-batches**.\n",
    "* The **loss** is computed and minimized using the optimizer.\n",
    "* A portion of the training data is held out as **validation data** (here: `30%`), which helps monitor the model’s performance during training (without touching the test set).\n",
    "* **Epochs** define how many times the model sees the full training data.\n",
    "* The result is stored in a `history` object, which contains metrics per epoch.\n",
    "\n",
    "#### **Why save the history?**\n",
    "\n",
    "The `history` object contains all the training metrics over time. You can use this to plot curves for accuracy or loss and detect overfitting or underfitting."
   ]
  },
  {
   "cell_type": "code",
   "execution_count": 24,
   "id": "bdf094eb-f90f-475e-875c-935a27e9e4c1",
   "metadata": {},
   "outputs": [],
   "source": [
    "# Get the Data like in PreparingDatin.ipynb\n",
    "import pandas as pd\n",
    "import numpy as np\n",
    "from sklearn import datasets\n",
    "from sklearn.preprocessing import StandardScaler\n",
    "from sklearn.model_selection import train_test_split\n",
    "\n",
    "# Load the Dataset \n",
    "breast_cancer = datasets.load_breast_cancer(as_frame=True)\n",
    "df = breast_cancer['frame'] \n",
    "\n",
    "# Select subset of features\n",
    "X = df[breast_cancer.feature_names[:10]] # Use only 10 features\n",
    "y = df[\"target\"]\n",
    "\n",
    "# Split the data for training and testing (70/30 split)\n",
    "X_train, X_test, y_train, y_test = train_test_split(\n",
    "    X, y, test_size=0.3, random_state=42, stratify=y\n",
    ")\n",
    "\n",
    "# Initialize the scaler\n",
    "scaler = StandardScaler()\n",
    "\n",
    "# Fit on training data, transform both train and test\n",
    "X_train = scaler.fit_transform(X_train)\n",
    "X_test = scaler.transform(X_test)"
   ]
  },
  {
   "cell_type": "markdown",
   "id": "7fc2327e-8f22-4d7e-850b-5b349a34d919",
   "metadata": {},
   "source": [
    "additional comments: If you run the cell containing the training again, it will pick up where it stopped before. The optimizer still holds the trained weights from before, the model is not reset. If you want to really restart the training, you either need to build your model again."
   ]
  },
  {
   "cell_type": "code",
   "execution_count": 25,
   "id": "ef8106f9-b594-458a-91dc-c00c8129bf6f",
   "metadata": {},
   "outputs": [
    {
     "name": "stdout",
     "output_type": "stream",
     "text": [
      "Epoch 1/100\n",
      "\u001b[1m35/35\u001b[0m \u001b[32m━━━━━━━━━━━━━━━━━━━━\u001b[0m\u001b[37m\u001b[0m \u001b[1m1s\u001b[0m 10ms/step - accuracy: 0.5716 - loss: 0.6672 - val_accuracy: 0.7083 - val_loss: 0.5796\n",
      "Epoch 2/100\n",
      "\u001b[1m35/35\u001b[0m \u001b[32m━━━━━━━━━━━━━━━━━━━━\u001b[0m\u001b[37m\u001b[0m \u001b[1m0s\u001b[0m 2ms/step - accuracy: 0.7754 - loss: 0.5366 - val_accuracy: 0.8750 - val_loss: 0.4882\n",
      "Epoch 3/100\n",
      "\u001b[1m35/35\u001b[0m \u001b[32m━━━━━━━━━━━━━━━━━━━━\u001b[0m\u001b[37m\u001b[0m \u001b[1m0s\u001b[0m 2ms/step - accuracy: 0.8775 - loss: 0.4574 - val_accuracy: 0.9000 - val_loss: 0.4261\n",
      "Epoch 4/100\n",
      "\u001b[1m35/35\u001b[0m \u001b[32m━━━━━━━━━━━━━━━━━━━━\u001b[0m\u001b[37m\u001b[0m \u001b[1m0s\u001b[0m 2ms/step - accuracy: 0.8620 - loss: 0.4086 - val_accuracy: 0.9083 - val_loss: 0.3807\n",
      "Epoch 5/100\n",
      "\u001b[1m35/35\u001b[0m \u001b[32m━━━━━━━━━━━━━━━━━━━━\u001b[0m\u001b[37m\u001b[0m \u001b[1m0s\u001b[0m 2ms/step - accuracy: 0.9041 - loss: 0.3576 - val_accuracy: 0.9250 - val_loss: 0.3453\n",
      "Epoch 6/100\n",
      "\u001b[1m35/35\u001b[0m \u001b[32m━━━━━━━━━━━━━━━━━━━━\u001b[0m\u001b[37m\u001b[0m \u001b[1m0s\u001b[0m 2ms/step - accuracy: 0.9111 - loss: 0.3341 - val_accuracy: 0.9250 - val_loss: 0.3175\n",
      "Epoch 7/100\n",
      "\u001b[1m35/35\u001b[0m \u001b[32m━━━━━━━━━━━━━━━━━━━━\u001b[0m\u001b[37m\u001b[0m \u001b[1m0s\u001b[0m 2ms/step - accuracy: 0.8820 - loss: 0.3224 - val_accuracy: 0.9250 - val_loss: 0.2942\n",
      "Epoch 8/100\n",
      "\u001b[1m35/35\u001b[0m \u001b[32m━━━━━━━━━━━━━━━━━━━━\u001b[0m\u001b[37m\u001b[0m \u001b[1m0s\u001b[0m 2ms/step - accuracy: 0.9017 - loss: 0.3162 - val_accuracy: 0.9333 - val_loss: 0.2752\n",
      "Epoch 9/100\n",
      "\u001b[1m35/35\u001b[0m \u001b[32m━━━━━━━━━━━━━━━━━━━━\u001b[0m\u001b[37m\u001b[0m \u001b[1m0s\u001b[0m 2ms/step - accuracy: 0.9163 - loss: 0.2798 - val_accuracy: 0.9333 - val_loss: 0.2588\n",
      "Epoch 10/100\n",
      "\u001b[1m35/35\u001b[0m \u001b[32m━━━━━━━━━━━━━━━━━━━━\u001b[0m\u001b[37m\u001b[0m \u001b[1m0s\u001b[0m 2ms/step - accuracy: 0.9250 - loss: 0.2590 - val_accuracy: 0.9333 - val_loss: 0.2448\n",
      "Epoch 11/100\n",
      "\u001b[1m35/35\u001b[0m \u001b[32m━━━━━━━━━━━━━━━━━━━━\u001b[0m\u001b[37m\u001b[0m \u001b[1m0s\u001b[0m 2ms/step - accuracy: 0.9423 - loss: 0.2304 - val_accuracy: 0.9333 - val_loss: 0.2328\n",
      "Epoch 12/100\n",
      "\u001b[1m35/35\u001b[0m \u001b[32m━━━━━━━━━━━━━━━━━━━━\u001b[0m\u001b[37m\u001b[0m \u001b[1m0s\u001b[0m 2ms/step - accuracy: 0.9097 - loss: 0.2742 - val_accuracy: 0.9333 - val_loss: 0.2220\n",
      "Epoch 13/100\n",
      "\u001b[1m35/35\u001b[0m \u001b[32m━━━━━━━━━━━━━━━━━━━━\u001b[0m\u001b[37m\u001b[0m \u001b[1m0s\u001b[0m 2ms/step - accuracy: 0.9108 - loss: 0.2414 - val_accuracy: 0.9333 - val_loss: 0.2125\n",
      "Epoch 14/100\n",
      "\u001b[1m35/35\u001b[0m \u001b[32m━━━━━━━━━━━━━━━━━━━━\u001b[0m\u001b[37m\u001b[0m \u001b[1m0s\u001b[0m 2ms/step - accuracy: 0.9394 - loss: 0.1992 - val_accuracy: 0.9333 - val_loss: 0.2041\n",
      "Epoch 15/100\n",
      "\u001b[1m35/35\u001b[0m \u001b[32m━━━━━━━━━━━━━━━━━━━━\u001b[0m\u001b[37m\u001b[0m \u001b[1m0s\u001b[0m 2ms/step - accuracy: 0.9409 - loss: 0.2120 - val_accuracy: 0.9417 - val_loss: 0.1963\n",
      "Epoch 16/100\n",
      "\u001b[1m35/35\u001b[0m \u001b[32m━━━━━━━━━━━━━━━━━━━━\u001b[0m\u001b[37m\u001b[0m \u001b[1m0s\u001b[0m 2ms/step - accuracy: 0.9151 - loss: 0.2348 - val_accuracy: 0.9417 - val_loss: 0.1896\n",
      "Epoch 17/100\n",
      "\u001b[1m35/35\u001b[0m \u001b[32m━━━━━━━━━━━━━━━━━━━━\u001b[0m\u001b[37m\u001b[0m \u001b[1m0s\u001b[0m 2ms/step - accuracy: 0.9641 - loss: 0.1818 - val_accuracy: 0.9417 - val_loss: 0.1835\n",
      "Epoch 18/100\n",
      "\u001b[1m35/35\u001b[0m \u001b[32m━━━━━━━━━━━━━━━━━━━━\u001b[0m\u001b[37m\u001b[0m \u001b[1m0s\u001b[0m 2ms/step - accuracy: 0.9558 - loss: 0.1714 - val_accuracy: 0.9417 - val_loss: 0.1779\n",
      "Epoch 19/100\n",
      "\u001b[1m35/35\u001b[0m \u001b[32m━━━━━━━━━━━━━━━━━━━━\u001b[0m\u001b[37m\u001b[0m \u001b[1m0s\u001b[0m 2ms/step - accuracy: 0.9469 - loss: 0.1898 - val_accuracy: 0.9417 - val_loss: 0.1730\n",
      "Epoch 20/100\n",
      "\u001b[1m35/35\u001b[0m \u001b[32m━━━━━━━━━━━━━━━━━━━━\u001b[0m\u001b[37m\u001b[0m \u001b[1m0s\u001b[0m 2ms/step - accuracy: 0.9394 - loss: 0.1945 - val_accuracy: 0.9417 - val_loss: 0.1684\n",
      "Epoch 21/100\n",
      "\u001b[1m35/35\u001b[0m \u001b[32m━━━━━━━━━━━━━━━━━━━━\u001b[0m\u001b[37m\u001b[0m \u001b[1m0s\u001b[0m 2ms/step - accuracy: 0.9630 - loss: 0.1657 - val_accuracy: 0.9417 - val_loss: 0.1644\n",
      "Epoch 22/100\n",
      "\u001b[1m35/35\u001b[0m \u001b[32m━━━━━━━━━━━━━━━━━━━━\u001b[0m\u001b[37m\u001b[0m \u001b[1m0s\u001b[0m 2ms/step - accuracy: 0.9503 - loss: 0.1699 - val_accuracy: 0.9417 - val_loss: 0.1607\n",
      "Epoch 23/100\n",
      "\u001b[1m35/35\u001b[0m \u001b[32m━━━━━━━━━━━━━━━━━━━━\u001b[0m\u001b[37m\u001b[0m \u001b[1m0s\u001b[0m 2ms/step - accuracy: 0.9468 - loss: 0.1709 - val_accuracy: 0.9417 - val_loss: 0.1573\n",
      "Epoch 24/100\n",
      "\u001b[1m35/35\u001b[0m \u001b[32m━━━━━━━━━━━━━━━━━━━━\u001b[0m\u001b[37m\u001b[0m \u001b[1m0s\u001b[0m 2ms/step - accuracy: 0.9566 - loss: 0.1588 - val_accuracy: 0.9417 - val_loss: 0.1541\n",
      "Epoch 25/100\n",
      "\u001b[1m35/35\u001b[0m \u001b[32m━━━━━━━━━━━━━━━━━━━━\u001b[0m\u001b[37m\u001b[0m \u001b[1m0s\u001b[0m 2ms/step - accuracy: 0.9321 - loss: 0.1699 - val_accuracy: 0.9500 - val_loss: 0.1513\n",
      "Epoch 26/100\n",
      "\u001b[1m35/35\u001b[0m \u001b[32m━━━━━━━━━━━━━━━━━━━━\u001b[0m\u001b[37m\u001b[0m \u001b[1m0s\u001b[0m 2ms/step - accuracy: 0.9534 - loss: 0.1654 - val_accuracy: 0.9417 - val_loss: 0.1486\n",
      "Epoch 27/100\n",
      "\u001b[1m35/35\u001b[0m \u001b[32m━━━━━━━━━━━━━━━━━━━━\u001b[0m\u001b[37m\u001b[0m \u001b[1m0s\u001b[0m 2ms/step - accuracy: 0.9575 - loss: 0.1512 - val_accuracy: 0.9417 - val_loss: 0.1460\n",
      "Epoch 28/100\n",
      "\u001b[1m35/35\u001b[0m \u001b[32m━━━━━━━━━━━━━━━━━━━━\u001b[0m\u001b[37m\u001b[0m \u001b[1m0s\u001b[0m 2ms/step - accuracy: 0.9395 - loss: 0.1679 - val_accuracy: 0.9417 - val_loss: 0.1437\n",
      "Epoch 29/100\n",
      "\u001b[1m35/35\u001b[0m \u001b[32m━━━━━━━━━━━━━━━━━━━━\u001b[0m\u001b[37m\u001b[0m \u001b[1m0s\u001b[0m 2ms/step - accuracy: 0.9420 - loss: 0.1609 - val_accuracy: 0.9417 - val_loss: 0.1415\n",
      "Epoch 30/100\n",
      "\u001b[1m35/35\u001b[0m \u001b[32m━━━━━━━━━━━━━━━━━━━━\u001b[0m\u001b[37m\u001b[0m \u001b[1m0s\u001b[0m 2ms/step - accuracy: 0.9414 - loss: 0.1784 - val_accuracy: 0.9417 - val_loss: 0.1395\n",
      "Epoch 31/100\n",
      "\u001b[1m35/35\u001b[0m \u001b[32m━━━━━━━━━━━━━━━━━━━━\u001b[0m\u001b[37m\u001b[0m \u001b[1m0s\u001b[0m 2ms/step - accuracy: 0.9618 - loss: 0.1470 - val_accuracy: 0.9417 - val_loss: 0.1377\n",
      "Epoch 32/100\n",
      "\u001b[1m35/35\u001b[0m \u001b[32m━━━━━━━━━━━━━━━━━━━━\u001b[0m\u001b[37m\u001b[0m \u001b[1m0s\u001b[0m 2ms/step - accuracy: 0.9476 - loss: 0.1635 - val_accuracy: 0.9417 - val_loss: 0.1360\n",
      "Epoch 33/100\n",
      "\u001b[1m35/35\u001b[0m \u001b[32m━━━━━━━━━━━━━━━━━━━━\u001b[0m\u001b[37m\u001b[0m \u001b[1m0s\u001b[0m 2ms/step - accuracy: 0.9370 - loss: 0.1909 - val_accuracy: 0.9417 - val_loss: 0.1343\n",
      "Epoch 34/100\n",
      "\u001b[1m35/35\u001b[0m \u001b[32m━━━━━━━━━━━━━━━━━━━━\u001b[0m\u001b[37m\u001b[0m \u001b[1m0s\u001b[0m 2ms/step - accuracy: 0.9477 - loss: 0.1531 - val_accuracy: 0.9417 - val_loss: 0.1328\n",
      "Epoch 35/100\n",
      "\u001b[1m35/35\u001b[0m \u001b[32m━━━━━━━━━━━━━━━━━━━━\u001b[0m\u001b[37m\u001b[0m \u001b[1m0s\u001b[0m 2ms/step - accuracy: 0.9503 - loss: 0.1455 - val_accuracy: 0.9417 - val_loss: 0.1313\n",
      "Epoch 36/100\n",
      "\u001b[1m35/35\u001b[0m \u001b[32m━━━━━━━━━━━━━━━━━━━━\u001b[0m\u001b[37m\u001b[0m \u001b[1m0s\u001b[0m 2ms/step - accuracy: 0.9608 - loss: 0.1461 - val_accuracy: 0.9333 - val_loss: 0.1299\n",
      "Epoch 37/100\n",
      "\u001b[1m35/35\u001b[0m \u001b[32m━━━━━━━━━━━━━━━━━━━━\u001b[0m\u001b[37m\u001b[0m \u001b[1m0s\u001b[0m 2ms/step - accuracy: 0.9529 - loss: 0.1213 - val_accuracy: 0.9333 - val_loss: 0.1285\n",
      "Epoch 38/100\n",
      "\u001b[1m35/35\u001b[0m \u001b[32m━━━━━━━━━━━━━━━━━━━━\u001b[0m\u001b[37m\u001b[0m \u001b[1m0s\u001b[0m 2ms/step - accuracy: 0.9565 - loss: 0.1498 - val_accuracy: 0.9333 - val_loss: 0.1273\n",
      "Epoch 39/100\n",
      "\u001b[1m35/35\u001b[0m \u001b[32m━━━━━━━━━━━━━━━━━━━━\u001b[0m\u001b[37m\u001b[0m \u001b[1m0s\u001b[0m 2ms/step - accuracy: 0.9591 - loss: 0.1552 - val_accuracy: 0.9333 - val_loss: 0.1262\n",
      "Epoch 40/100\n",
      "\u001b[1m35/35\u001b[0m \u001b[32m━━━━━━━━━━━━━━━━━━━━\u001b[0m\u001b[37m\u001b[0m \u001b[1m0s\u001b[0m 2ms/step - accuracy: 0.9501 - loss: 0.1436 - val_accuracy: 0.9333 - val_loss: 0.1251\n",
      "Epoch 41/100\n",
      "\u001b[1m35/35\u001b[0m \u001b[32m━━━━━━━━━━━━━━━━━━━━\u001b[0m\u001b[37m\u001b[0m \u001b[1m0s\u001b[0m 2ms/step - accuracy: 0.9538 - loss: 0.1451 - val_accuracy: 0.9417 - val_loss: 0.1242\n",
      "Epoch 42/100\n",
      "\u001b[1m35/35\u001b[0m \u001b[32m━━━━━━━━━━━━━━━━━━━━\u001b[0m\u001b[37m\u001b[0m \u001b[1m0s\u001b[0m 2ms/step - accuracy: 0.9450 - loss: 0.1664 - val_accuracy: 0.9417 - val_loss: 0.1233\n",
      "Epoch 43/100\n",
      "\u001b[1m35/35\u001b[0m \u001b[32m━━━━━━━━━━━━━━━━━━━━\u001b[0m\u001b[37m\u001b[0m \u001b[1m0s\u001b[0m 2ms/step - accuracy: 0.9640 - loss: 0.1689 - val_accuracy: 0.9417 - val_loss: 0.1224\n",
      "Epoch 44/100\n",
      "\u001b[1m35/35\u001b[0m \u001b[32m━━━━━━━━━━━━━━━━━━━━\u001b[0m\u001b[37m\u001b[0m \u001b[1m0s\u001b[0m 2ms/step - accuracy: 0.9530 - loss: 0.1566 - val_accuracy: 0.9417 - val_loss: 0.1216\n",
      "Epoch 45/100\n",
      "\u001b[1m35/35\u001b[0m \u001b[32m━━━━━━━━━━━━━━━━━━━━\u001b[0m\u001b[37m\u001b[0m \u001b[1m0s\u001b[0m 2ms/step - accuracy: 0.9686 - loss: 0.1202 - val_accuracy: 0.9417 - val_loss: 0.1208\n",
      "Epoch 46/100\n",
      "\u001b[1m35/35\u001b[0m \u001b[32m━━━━━━━━━━━━━━━━━━━━\u001b[0m\u001b[37m\u001b[0m \u001b[1m0s\u001b[0m 2ms/step - accuracy: 0.9594 - loss: 0.1324 - val_accuracy: 0.9417 - val_loss: 0.1200\n",
      "Epoch 47/100\n",
      "\u001b[1m35/35\u001b[0m \u001b[32m━━━━━━━━━━━━━━━━━━━━\u001b[0m\u001b[37m\u001b[0m \u001b[1m0s\u001b[0m 2ms/step - accuracy: 0.9486 - loss: 0.1519 - val_accuracy: 0.9417 - val_loss: 0.1193\n",
      "Epoch 48/100\n",
      "\u001b[1m35/35\u001b[0m \u001b[32m━━━━━━━━━━━━━━━━━━━━\u001b[0m\u001b[37m\u001b[0m \u001b[1m0s\u001b[0m 2ms/step - accuracy: 0.9593 - loss: 0.1143 - val_accuracy: 0.9417 - val_loss: 0.1187\n",
      "Epoch 49/100\n",
      "\u001b[1m35/35\u001b[0m \u001b[32m━━━━━━━━━━━━━━━━━━━━\u001b[0m\u001b[37m\u001b[0m \u001b[1m0s\u001b[0m 2ms/step - accuracy: 0.9445 - loss: 0.1459 - val_accuracy: 0.9417 - val_loss: 0.1180\n",
      "Epoch 50/100\n",
      "\u001b[1m35/35\u001b[0m \u001b[32m━━━━━━━━━━━━━━━━━━━━\u001b[0m\u001b[37m\u001b[0m \u001b[1m0s\u001b[0m 2ms/step - accuracy: 0.9529 - loss: 0.1432 - val_accuracy: 0.9417 - val_loss: 0.1174\n",
      "Epoch 51/100\n",
      "\u001b[1m35/35\u001b[0m \u001b[32m━━━━━━━━━━━━━━━━━━━━\u001b[0m\u001b[37m\u001b[0m \u001b[1m0s\u001b[0m 2ms/step - accuracy: 0.9524 - loss: 0.1433 - val_accuracy: 0.9417 - val_loss: 0.1168\n",
      "Epoch 52/100\n",
      "\u001b[1m35/35\u001b[0m \u001b[32m━━━━━━━━━━━━━━━━━━━━\u001b[0m\u001b[37m\u001b[0m \u001b[1m0s\u001b[0m 2ms/step - accuracy: 0.9711 - loss: 0.1224 - val_accuracy: 0.9417 - val_loss: 0.1162\n",
      "Epoch 53/100\n",
      "\u001b[1m35/35\u001b[0m \u001b[32m━━━━━━━━━━━━━━━━━━━━\u001b[0m\u001b[37m\u001b[0m \u001b[1m0s\u001b[0m 2ms/step - accuracy: 0.9484 - loss: 0.1495 - val_accuracy: 0.9417 - val_loss: 0.1157\n",
      "Epoch 54/100\n",
      "\u001b[1m35/35\u001b[0m \u001b[32m━━━━━━━━━━━━━━━━━━━━\u001b[0m\u001b[37m\u001b[0m \u001b[1m0s\u001b[0m 2ms/step - accuracy: 0.9365 - loss: 0.1693 - val_accuracy: 0.9417 - val_loss: 0.1151\n",
      "Epoch 55/100\n",
      "\u001b[1m35/35\u001b[0m \u001b[32m━━━━━━━━━━━━━━━━━━━━\u001b[0m\u001b[37m\u001b[0m \u001b[1m0s\u001b[0m 2ms/step - accuracy: 0.9499 - loss: 0.1382 - val_accuracy: 0.9417 - val_loss: 0.1146\n",
      "Epoch 56/100\n",
      "\u001b[1m35/35\u001b[0m \u001b[32m━━━━━━━━━━━━━━━━━━━━\u001b[0m\u001b[37m\u001b[0m \u001b[1m0s\u001b[0m 2ms/step - accuracy: 0.9490 - loss: 0.1361 - val_accuracy: 0.9417 - val_loss: 0.1142\n",
      "Epoch 57/100\n",
      "\u001b[1m35/35\u001b[0m \u001b[32m━━━━━━━━━━━━━━━━━━━━\u001b[0m\u001b[37m\u001b[0m \u001b[1m0s\u001b[0m 2ms/step - accuracy: 0.9577 - loss: 0.1189 - val_accuracy: 0.9417 - val_loss: 0.1137\n",
      "Epoch 58/100\n",
      "\u001b[1m35/35\u001b[0m \u001b[32m━━━━━━━━━━━━━━━━━━━━\u001b[0m\u001b[37m\u001b[0m \u001b[1m0s\u001b[0m 2ms/step - accuracy: 0.9569 - loss: 0.1359 - val_accuracy: 0.9417 - val_loss: 0.1132\n",
      "Epoch 59/100\n",
      "\u001b[1m35/35\u001b[0m \u001b[32m━━━━━━━━━━━━━━━━━━━━\u001b[0m\u001b[37m\u001b[0m \u001b[1m0s\u001b[0m 2ms/step - accuracy: 0.9448 - loss: 0.1229 - val_accuracy: 0.9417 - val_loss: 0.1127\n",
      "Epoch 60/100\n",
      "\u001b[1m35/35\u001b[0m \u001b[32m━━━━━━━━━━━━━━━━━━━━\u001b[0m\u001b[37m\u001b[0m \u001b[1m0s\u001b[0m 2ms/step - accuracy: 0.9673 - loss: 0.1269 - val_accuracy: 0.9500 - val_loss: 0.1124\n",
      "Epoch 61/100\n",
      "\u001b[1m35/35\u001b[0m \u001b[32m━━━━━━━━━━━━━━━━━━━━\u001b[0m\u001b[37m\u001b[0m \u001b[1m0s\u001b[0m 2ms/step - accuracy: 0.9423 - loss: 0.1421 - val_accuracy: 0.9500 - val_loss: 0.1119\n",
      "Epoch 62/100\n",
      "\u001b[1m35/35\u001b[0m \u001b[32m━━━━━━━━━━━━━━━━━━━━\u001b[0m\u001b[37m\u001b[0m \u001b[1m0s\u001b[0m 2ms/step - accuracy: 0.9535 - loss: 0.1276 - val_accuracy: 0.9500 - val_loss: 0.1115\n",
      "Epoch 63/100\n",
      "\u001b[1m35/35\u001b[0m \u001b[32m━━━━━━━━━━━━━━━━━━━━\u001b[0m\u001b[37m\u001b[0m \u001b[1m0s\u001b[0m 2ms/step - accuracy: 0.9504 - loss: 0.1186 - val_accuracy: 0.9500 - val_loss: 0.1110\n",
      "Epoch 64/100\n",
      "\u001b[1m35/35\u001b[0m \u001b[32m━━━━━━━━━━━━━━━━━━━━\u001b[0m\u001b[37m\u001b[0m \u001b[1m0s\u001b[0m 2ms/step - accuracy: 0.9746 - loss: 0.0980 - val_accuracy: 0.9500 - val_loss: 0.1106\n",
      "Epoch 65/100\n",
      "\u001b[1m35/35\u001b[0m \u001b[32m━━━━━━━━━━━━━━━━━━━━\u001b[0m\u001b[37m\u001b[0m \u001b[1m0s\u001b[0m 2ms/step - accuracy: 0.9566 - loss: 0.1505 - val_accuracy: 0.9500 - val_loss: 0.1102\n",
      "Epoch 66/100\n",
      "\u001b[1m35/35\u001b[0m \u001b[32m━━━━━━━━━━━━━━━━━━━━\u001b[0m\u001b[37m\u001b[0m \u001b[1m0s\u001b[0m 2ms/step - accuracy: 0.9711 - loss: 0.1248 - val_accuracy: 0.9500 - val_loss: 0.1099\n",
      "Epoch 67/100\n",
      "\u001b[1m35/35\u001b[0m \u001b[32m━━━━━━━━━━━━━━━━━━━━\u001b[0m\u001b[37m\u001b[0m \u001b[1m0s\u001b[0m 2ms/step - accuracy: 0.9860 - loss: 0.0813 - val_accuracy: 0.9500 - val_loss: 0.1095\n",
      "Epoch 68/100\n",
      "\u001b[1m35/35\u001b[0m \u001b[32m━━━━━━━━━━━━━━━━━━━━\u001b[0m\u001b[37m\u001b[0m \u001b[1m0s\u001b[0m 2ms/step - accuracy: 0.9380 - loss: 0.1519 - val_accuracy: 0.9500 - val_loss: 0.1091\n",
      "Epoch 69/100\n",
      "\u001b[1m35/35\u001b[0m \u001b[32m━━━━━━━━━━━━━━━━━━━━\u001b[0m\u001b[37m\u001b[0m \u001b[1m0s\u001b[0m 2ms/step - accuracy: 0.9504 - loss: 0.1385 - val_accuracy: 0.9500 - val_loss: 0.1088\n",
      "Epoch 70/100\n",
      "\u001b[1m35/35\u001b[0m \u001b[32m━━━━━━━━━━━━━━━━━━━━\u001b[0m\u001b[37m\u001b[0m \u001b[1m0s\u001b[0m 2ms/step - accuracy: 0.9763 - loss: 0.1092 - val_accuracy: 0.9500 - val_loss: 0.1085\n",
      "Epoch 71/100\n",
      "\u001b[1m35/35\u001b[0m \u001b[32m━━━━━━━━━━━━━━━━━━━━\u001b[0m\u001b[37m\u001b[0m \u001b[1m0s\u001b[0m 2ms/step - accuracy: 0.9491 - loss: 0.1478 - val_accuracy: 0.9500 - val_loss: 0.1081\n",
      "Epoch 72/100\n",
      "\u001b[1m35/35\u001b[0m \u001b[32m━━━━━━━━━━━━━━━━━━━━\u001b[0m\u001b[37m\u001b[0m \u001b[1m0s\u001b[0m 2ms/step - accuracy: 0.9437 - loss: 0.1436 - val_accuracy: 0.9500 - val_loss: 0.1079\n",
      "Epoch 73/100\n",
      "\u001b[1m35/35\u001b[0m \u001b[32m━━━━━━━━━━━━━━━━━━━━\u001b[0m\u001b[37m\u001b[0m \u001b[1m0s\u001b[0m 2ms/step - accuracy: 0.9670 - loss: 0.1437 - val_accuracy: 0.9500 - val_loss: 0.1076\n",
      "Epoch 74/100\n",
      "\u001b[1m35/35\u001b[0m \u001b[32m━━━━━━━━━━━━━━━━━━━━\u001b[0m\u001b[37m\u001b[0m \u001b[1m0s\u001b[0m 2ms/step - accuracy: 0.9611 - loss: 0.1448 - val_accuracy: 0.9500 - val_loss: 0.1072\n",
      "Epoch 75/100\n",
      "\u001b[1m35/35\u001b[0m \u001b[32m━━━━━━━━━━━━━━━━━━━━\u001b[0m\u001b[37m\u001b[0m \u001b[1m0s\u001b[0m 2ms/step - accuracy: 0.9691 - loss: 0.1062 - val_accuracy: 0.9500 - val_loss: 0.1070\n",
      "Epoch 76/100\n",
      "\u001b[1m35/35\u001b[0m \u001b[32m━━━━━━━━━━━━━━━━━━━━\u001b[0m\u001b[37m\u001b[0m \u001b[1m0s\u001b[0m 2ms/step - accuracy: 0.9621 - loss: 0.1340 - val_accuracy: 0.9500 - val_loss: 0.1066\n",
      "Epoch 77/100\n",
      "\u001b[1m35/35\u001b[0m \u001b[32m━━━━━━━━━━━━━━━━━━━━\u001b[0m\u001b[37m\u001b[0m \u001b[1m0s\u001b[0m 2ms/step - accuracy: 0.9562 - loss: 0.1092 - val_accuracy: 0.9500 - val_loss: 0.1063\n",
      "Epoch 78/100\n",
      "\u001b[1m35/35\u001b[0m \u001b[32m━━━━━━━━━━━━━━━━━━━━\u001b[0m\u001b[37m\u001b[0m \u001b[1m0s\u001b[0m 2ms/step - accuracy: 0.9688 - loss: 0.1052 - val_accuracy: 0.9500 - val_loss: 0.1060\n",
      "Epoch 79/100\n",
      "\u001b[1m35/35\u001b[0m \u001b[32m━━━━━━━━━━━━━━━━━━━━\u001b[0m\u001b[37m\u001b[0m \u001b[1m0s\u001b[0m 2ms/step - accuracy: 0.9545 - loss: 0.1377 - val_accuracy: 0.9500 - val_loss: 0.1056\n",
      "Epoch 80/100\n",
      "\u001b[1m35/35\u001b[0m \u001b[32m━━━━━━━━━━━━━━━━━━━━\u001b[0m\u001b[37m\u001b[0m \u001b[1m0s\u001b[0m 2ms/step - accuracy: 0.9660 - loss: 0.1113 - val_accuracy: 0.9500 - val_loss: 0.1054\n",
      "Epoch 81/100\n",
      "\u001b[1m35/35\u001b[0m \u001b[32m━━━━━━━━━━━━━━━━━━━━\u001b[0m\u001b[37m\u001b[0m \u001b[1m0s\u001b[0m 2ms/step - accuracy: 0.9544 - loss: 0.1010 - val_accuracy: 0.9500 - val_loss: 0.1051\n",
      "Epoch 82/100\n",
      "\u001b[1m35/35\u001b[0m \u001b[32m━━━━━━━━━━━━━━━━━━━━\u001b[0m\u001b[37m\u001b[0m \u001b[1m0s\u001b[0m 2ms/step - accuracy: 0.9616 - loss: 0.1249 - val_accuracy: 0.9500 - val_loss: 0.1049\n",
      "Epoch 83/100\n",
      "\u001b[1m35/35\u001b[0m \u001b[32m━━━━━━━━━━━━━━━━━━━━\u001b[0m\u001b[37m\u001b[0m \u001b[1m0s\u001b[0m 2ms/step - accuracy: 0.9666 - loss: 0.1322 - val_accuracy: 0.9500 - val_loss: 0.1045\n",
      "Epoch 84/100\n",
      "\u001b[1m35/35\u001b[0m \u001b[32m━━━━━━━━━━━━━━━━━━━━\u001b[0m\u001b[37m\u001b[0m \u001b[1m0s\u001b[0m 2ms/step - accuracy: 0.9588 - loss: 0.1398 - val_accuracy: 0.9500 - val_loss: 0.1042\n",
      "Epoch 85/100\n",
      "\u001b[1m35/35\u001b[0m \u001b[32m━━━━━━━━━━━━━━━━━━━━\u001b[0m\u001b[37m\u001b[0m \u001b[1m0s\u001b[0m 2ms/step - accuracy: 0.9586 - loss: 0.1271 - val_accuracy: 0.9500 - val_loss: 0.1040\n",
      "Epoch 86/100\n",
      "\u001b[1m35/35\u001b[0m \u001b[32m━━━━━━━━━━━━━━━━━━━━\u001b[0m\u001b[37m\u001b[0m \u001b[1m0s\u001b[0m 2ms/step - accuracy: 0.9271 - loss: 0.1941 - val_accuracy: 0.9500 - val_loss: 0.1037\n",
      "Epoch 87/100\n",
      "\u001b[1m35/35\u001b[0m \u001b[32m━━━━━━━━━━━━━━━━━━━━\u001b[0m\u001b[37m\u001b[0m \u001b[1m0s\u001b[0m 2ms/step - accuracy: 0.9501 - loss: 0.1369 - val_accuracy: 0.9500 - val_loss: 0.1035\n",
      "Epoch 88/100\n",
      "\u001b[1m35/35\u001b[0m \u001b[32m━━━━━━━━━━━━━━━━━━━━\u001b[0m\u001b[37m\u001b[0m \u001b[1m0s\u001b[0m 2ms/step - accuracy: 0.9657 - loss: 0.1131 - val_accuracy: 0.9500 - val_loss: 0.1033\n",
      "Epoch 89/100\n",
      "\u001b[1m35/35\u001b[0m \u001b[32m━━━━━━━━━━━━━━━━━━━━\u001b[0m\u001b[37m\u001b[0m \u001b[1m0s\u001b[0m 2ms/step - accuracy: 0.9700 - loss: 0.0908 - val_accuracy: 0.9500 - val_loss: 0.1031\n",
      "Epoch 90/100\n",
      "\u001b[1m35/35\u001b[0m \u001b[32m━━━━━━━━━━━━━━━━━━━━\u001b[0m\u001b[37m\u001b[0m \u001b[1m0s\u001b[0m 2ms/step - accuracy: 0.9496 - loss: 0.1548 - val_accuracy: 0.9500 - val_loss: 0.1028\n",
      "Epoch 91/100\n",
      "\u001b[1m35/35\u001b[0m \u001b[32m━━━━━━━━━━━━━━━━━━━━\u001b[0m\u001b[37m\u001b[0m \u001b[1m0s\u001b[0m 2ms/step - accuracy: 0.9776 - loss: 0.0944 - val_accuracy: 0.9500 - val_loss: 0.1026\n",
      "Epoch 92/100\n",
      "\u001b[1m35/35\u001b[0m \u001b[32m━━━━━━━━━━━━━━━━━━━━\u001b[0m\u001b[37m\u001b[0m \u001b[1m0s\u001b[0m 2ms/step - accuracy: 0.9696 - loss: 0.1068 - val_accuracy: 0.9500 - val_loss: 0.1023\n",
      "Epoch 93/100\n",
      "\u001b[1m35/35\u001b[0m \u001b[32m━━━━━━━━━━━━━━━━━━━━\u001b[0m\u001b[37m\u001b[0m \u001b[1m0s\u001b[0m 2ms/step - accuracy: 0.9661 - loss: 0.1125 - val_accuracy: 0.9500 - val_loss: 0.1022\n",
      "Epoch 94/100\n",
      "\u001b[1m35/35\u001b[0m \u001b[32m━━━━━━━━━━━━━━━━━━━━\u001b[0m\u001b[37m\u001b[0m \u001b[1m0s\u001b[0m 2ms/step - accuracy: 0.9699 - loss: 0.1055 - val_accuracy: 0.9500 - val_loss: 0.1020\n",
      "Epoch 95/100\n",
      "\u001b[1m35/35\u001b[0m \u001b[32m━━━━━━━━━━━━━━━━━━━━\u001b[0m\u001b[37m\u001b[0m \u001b[1m0s\u001b[0m 2ms/step - accuracy: 0.9689 - loss: 0.1043 - val_accuracy: 0.9500 - val_loss: 0.1018\n",
      "Epoch 96/100\n",
      "\u001b[1m35/35\u001b[0m \u001b[32m━━━━━━━━━━━━━━━━━━━━\u001b[0m\u001b[37m\u001b[0m \u001b[1m0s\u001b[0m 2ms/step - accuracy: 0.9613 - loss: 0.1120 - val_accuracy: 0.9500 - val_loss: 0.1015\n",
      "Epoch 97/100\n",
      "\u001b[1m35/35\u001b[0m \u001b[32m━━━━━━━━━━━━━━━━━━━━\u001b[0m\u001b[37m\u001b[0m \u001b[1m0s\u001b[0m 2ms/step - accuracy: 0.9687 - loss: 0.0994 - val_accuracy: 0.9500 - val_loss: 0.1012\n",
      "Epoch 98/100\n",
      "\u001b[1m35/35\u001b[0m \u001b[32m━━━━━━━━━━━━━━━━━━━━\u001b[0m\u001b[37m\u001b[0m \u001b[1m0s\u001b[0m 2ms/step - accuracy: 0.9700 - loss: 0.1357 - val_accuracy: 0.9583 - val_loss: 0.1011\n",
      "Epoch 99/100\n",
      "\u001b[1m35/35\u001b[0m \u001b[32m━━━━━━━━━━━━━━━━━━━━\u001b[0m\u001b[37m\u001b[0m \u001b[1m0s\u001b[0m 2ms/step - accuracy: 0.9521 - loss: 0.1362 - val_accuracy: 0.9583 - val_loss: 0.1008\n",
      "Epoch 100/100\n",
      "\u001b[1m35/35\u001b[0m \u001b[32m━━━━━━━━━━━━━━━━━━━━\u001b[0m\u001b[37m\u001b[0m \u001b[1m0s\u001b[0m 2ms/step - accuracy: 0.9467 - loss: 0.1660 - val_accuracy: 0.9583 - val_loss: 0.1006\n"
     ]
    }
   ],
   "source": [
    "# x_train and y_train are Numpy arrays \n",
    "history = model.fit(X_train, y_train, validation_split=0.3, epochs=100, batch_size=8)"
   ]
  },
  {
   "cell_type": "code",
   "execution_count": 26,
   "id": "c82b14ed-3908-4a9d-9b84-efd3cbae1cbc",
   "metadata": {},
   "outputs": [
    {
     "name": "stdout",
     "output_type": "stream",
     "text": [
      "dict_keys(['accuracy', 'loss', 'val_accuracy', 'val_loss'])\n"
     ]
    }
   ],
   "source": [
    "print(history.history.keys())"
   ]
  },
  {
   "cell_type": "markdown",
   "id": "4585c161-c0a4-4fc8-8336-0ef60fea7911",
   "metadata": {},
   "source": [
    "We can now plot the loss evolution over the training epochs for the training and validation dataset:  "
   ]
  },
  {
   "cell_type": "code",
   "execution_count": 27,
   "id": "b57bafa0-d503-49dc-bcee-ed7af55fbf9f",
   "metadata": {},
   "outputs": [
    {
     "data": {
      "image/png": "[encoded data removed]",
      "text/plain": [
       "<Figure size 640x480 with 1 Axes>"
      ]
     },
     "metadata": {},
     "output_type": "display_data"
    }
   ],
   "source": [
    "# summarize history for loss\n",
    "plt.plot(history.history['loss'])\n",
    "plt.plot(history.history['val_loss'])\n",
    "plt.title('model loss')\n",
    "plt.ylabel('loss')\n",
    "plt.xlabel('epoch')\n",
    "plt.legend(['training', 'validation'], loc='upper right')\n",
    "plt.show()"
   ]
  },
  {
   "cell_type": "markdown",
   "id": "98f804d8-342e-4288-b036-b61b7bdd7ce8",
   "metadata": {},
   "source": [
    "Further Methods of Evaluation of the the model after training and of the predictions can be seen in EvaluatePredictions.ipynb "
   ]
  },
  {
   "cell_type": "code",
   "execution_count": 28,
   "id": "e38d1acc-a633-45ef-bf3d-1bc457a3d010",
   "metadata": {},
   "outputs": [
    {
     "name": "stdout",
     "output_type": "stream",
     "text": [
      "Testing...\n",
      "\u001b[1m22/22\u001b[0m \u001b[32m━━━━━━━━━━━━━━━━━━━━\u001b[0m\u001b[37m\u001b[0m \u001b[1m0s\u001b[0m 2ms/step \n"
     ]
    }
   ],
   "source": [
    "print('Testing...')\n",
    "y_pred = model.predict(X_test, verbose = True, batch_size=8)"
   ]
  },
  {
   "cell_type": "markdown",
   "id": "cd79de04-6512-4693-a939-a41a68282765",
   "metadata": {},
   "source": [
    "Plot the output prediction for malignant and benign breast cancer showing the separation between these two classes."
   ]
  },
  {
   "cell_type": "code",
   "execution_count": 29,
   "id": "5041a852-3585-44bb-8610-3e24053f6f6d",
   "metadata": {},
   "outputs": [
    {
     "data": {
      "image/png": "[encoded data removed]",
      "text/plain": [
       "<Figure size 1000x600 with 1 Axes>"
      ]
     },
     "metadata": {},
     "output_type": "display_data"
    }
   ],
   "source": [
    "malignant_pred = y_pred[y_test == 0]\n",
    "benign_pred = y_pred[y_test == 1]\n",
    "\n",
    "# Plot histogram\n",
    "plt.figure(figsize=(10, 6))\n",
    "plt.hist(benign_pred, bins=30, alpha=0.7, label='Benign (1)', color='green')\n",
    "plt.hist(malignant_pred, bins=30, alpha=0.7, label='Malignant (0)', color='red')\n",
    "plt.axvline(0.5, color='black', linestyle='--', label='Decision Boundary (0.5)')\n",
    "plt.xlabel('Predicted Probability of Being Benign')\n",
    "plt.ylabel('Number of Samples')\n",
    "plt.title('Prediction Probability Distribution')\n",
    "plt.legend()\n",
    "plt.grid(True)\n",
    "plt.show()"
   ]
  },
  {
   "cell_type": "markdown",
   "id": "d9d57121-873f-455a-b90e-1c58eeef3b3b",
   "metadata": {},
   "source": [
    "How do we decide now to which class the test example needs to assigned based on our prediction? Intuitively, we could simply convert our predictions into classes by using a threshold of 0.5 . Further Information can be viewed in the EvaluatePredictions.ipynb."
   ]
  }
 ],
 "metadata": {
  "kernelspec": {
   "display_name": "Python 3 (ipykernel)",
   "language": "python",
   "name": "python3"
  },
  "language_info": {
   "codemirror_mode": {
    "name": "ipython",
    "version": 3
   },
   "file_extension": ".py",
   "mimetype": "text/x-python",
   "name": "python",
   "nbconvert_exporter": "python",
   "pygments_lexer": "ipython3",
   "version": "3.12.10"
  }
 },
 "nbformat": 4,
 "nbformat_minor": 5
}
